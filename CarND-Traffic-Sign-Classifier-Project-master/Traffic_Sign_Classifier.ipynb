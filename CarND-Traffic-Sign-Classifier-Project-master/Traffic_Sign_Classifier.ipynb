{
 "cells": [
  {
   "cell_type": "markdown",
   "metadata": {},
   "source": [
    "# Self-Driving Car Engineer Nanodegree\n",
    "\n",
    "## Deep Learning\n",
    "\n",
    "## Project: Build a Traffic Sign Recognition Classifier\n",
    "\n",
    "In this notebook, a template is provided for you to implement your functionality in stages, which is required to successfully complete this project. If additional code is required that cannot be included in the notebook, be sure that the Python code is successfully imported and included in your submission if necessary. \n",
    "\n",
    "> **Note**: Once you have completed all of the code implementations, you need to finalize your work by exporting the iPython Notebook as an HTML document. Before exporting the notebook to html, all of the code cells need to have been run so that reviewers can see the final implementation and output. You can then export the notebook by using the menu above and navigating to  \\n\",\n",
    "    \"**File -> Download as -> HTML (.html)**. Include the finished document along with this notebook as your submission. \n",
    "\n",
    "In addition to implementing code, there is a writeup to complete. The writeup should be completed in a separate file, which can be either a markdown file or a pdf document. There is a [write up template](https://github.com/udacity/CarND-Traffic-Sign-Classifier-Project/blob/master/writeup_template.md) that can be used to guide the writing process. Completing the code template and writeup template will cover all of the [rubric points](https://review.udacity.com/#!/rubrics/481/view) for this project.\n",
    "\n",
    "The [rubric](https://review.udacity.com/#!/rubrics/481/view) contains \"Stand Out Suggestions\" for enhancing the project beyond the minimum requirements. The stand out suggestions are optional. If you decide to pursue the \"stand out suggestions\", you can include the code in this Ipython notebook and also discuss the results in the writeup file.\n",
    "\n",
    "\n",
    ">**Note:** Code and Markdown cells can be executed using the **Shift + Enter** keyboard shortcut. In addition, Markdown cells can be edited by typically double-clicking the cell to enter edit mode."
   ]
  },
  {
   "cell_type": "markdown",
   "metadata": {},
   "source": [
    "---\n",
    "## Step 0: Load The Data"
   ]
  },
  {
   "cell_type": "code",
   "execution_count": 1,
   "metadata": {
    "collapsed": true
   },
   "outputs": [],
   "source": [
    "# Load pickled data\n",
    "import pickle\n",
    "\n",
    "# TODO: Fill this in based on where you saved the training and testing data\n",
    "\n",
    "training_file = 'traffic-signs-data/train.p'\n",
    "validation_file= 'traffic-signs-data/valid.p'\n",
    "testing_file = 'traffic-signs-data/test.p'\n",
    "\n",
    "with open(training_file, mode='rb') as f:\n",
    "    train = pickle.load(f)\n",
    "with open(validation_file, mode='rb') as f:\n",
    "    valid = pickle.load(f)\n",
    "with open(testing_file, mode='rb') as f:\n",
    "    test = pickle.load(f)\n",
    "    \n",
    "X_train, y_train = train['features'], train['labels']\n",
    "X_valid, y_valid = valid['features'], valid['labels']\n",
    "X_test, y_test = test['features'], test['labels']"
   ]
  },
  {
   "cell_type": "markdown",
   "metadata": {},
   "source": [
    "---\n",
    "\n",
    "## Step 1: Dataset Summary & Exploration\n",
    "\n",
    "The pickled data is a dictionary with 4 key/value pairs:\n",
    "\n",
    "- `'features'` is a 4D array containing raw pixel data of the traffic sign images, (num examples, width, height, channels).\n",
    "- `'labels'` is a 1D array containing the label/class id of the traffic sign. The file `signnames.csv` contains id -> name mappings for each id.\n",
    "- `'sizes'` is a list containing tuples, (width, height) representing the original width and height the image.\n",
    "- `'coords'` is a list containing tuples, (x1, y1, x2, y2) representing coordinates of a bounding box around the sign in the image. **THESE COORDINATES ASSUME THE ORIGINAL IMAGE. THE PICKLED DATA CONTAINS RESIZED VERSIONS (32 by 32) OF THESE IMAGES**\n",
    "\n",
    "Complete the basic data summary below. Use python, numpy and/or pandas methods to calculate the data summary rather than hard coding the results. For example, the [pandas shape method](http://pandas.pydata.org/pandas-docs/stable/generated/pandas.DataFrame.shape.html) might be useful for calculating some of the summary results. "
   ]
  },
  {
   "cell_type": "markdown",
   "metadata": {},
   "source": [
    "### Provide a Basic Summary of the Data Set Using Python, Numpy and/or Pandas"
   ]
  },
  {
   "cell_type": "code",
   "execution_count": 2,
   "metadata": {},
   "outputs": [
    {
     "name": "stdout",
     "output_type": "stream",
     "text": [
      "Number of training examples = 34799\n",
      "Number of testing examples = 12630\n",
      "Image data shape = (32, 32, 3)\n",
      "Number of classes = 43\n"
     ]
    }
   ],
   "source": [
    "### Replace each question mark with the appropriate value. \n",
    "### Use python, pandas or numpy methods rather than hard coding the results\n",
    "\n",
    "# TODO: Number of training examples\n",
    "n_train = X_train.shape[0]\n",
    "\n",
    "# TODO: Number of validation examples\n",
    "n_validation = X_valid.shape[0]\n",
    "\n",
    "# TODO: Number of testing examples.\n",
    "n_test = X_test.shape[0]\n",
    "\n",
    "# TODO: What's the shape of an traffic sign image?\n",
    "image_shape = X_train[0].shape\n",
    "\n",
    "# TODO: How many unique classes/labels there are in the dataset.\n",
    "n_classes = len(set(y_train))\n",
    "\n",
    "print(\"Number of training examples =\", n_train)\n",
    "print(\"Number of testing examples =\", n_test)\n",
    "print(\"Image data shape =\", image_shape)\n",
    "print(\"Number of classes =\", n_classes)"
   ]
  },
  {
   "cell_type": "markdown",
   "metadata": {},
   "source": [
    "### Convert to Gray Scale"
   ]
  },
  {
   "cell_type": "code",
   "execution_count": 3,
   "metadata": {},
   "outputs": [],
   "source": [
    "import numpy as np\n",
    "X_train_gray = np.sum(X_train/3, axis=3, keepdims=True)\n",
    "X_valid_gray = np.sum(X_valid/3, axis=3, keepdims=True)\n",
    "X_test_gray = np.sum(X_test/3, axis=3, keepdims=True)"
   ]
  },
  {
   "cell_type": "markdown",
   "metadata": {},
   "source": [
    "### histogram of label frequency"
   ]
  },
  {
   "cell_type": "code",
   "execution_count": 4,
   "metadata": {},
   "outputs": [
    {
     "data": {
      "image/png": "[encoded data removed]",
      "text/plain": [
       "<matplotlib.figure.Figure at 0x7f54440ee358>"
      ]
     },
     "metadata": {},
     "output_type": "display_data"
    }
   ],
   "source": [
    "### Data exploration visualization code goes here.\n",
    "### Feel free to use as many code cells as needed.\n",
    "import matplotlib.pyplot as plt\n",
    "# Visualizations will be shown in the notebook.\n",
    "%matplotlib inline\n",
    "\n",
    "hist, bins = np.histogram(y_train, bins=n_classes)\n",
    "width = 0.8 * (bins[1] - bins[0])\n",
    "center = (bins[:-1] + bins[1:]) / 2\n",
    "plt.bar(center, hist, align='center', width=width)\n",
    "plt.xlabel('Numerical Traffic Sign Labels')\n",
    "plt.ylabel('Occurencies')\n",
    "plt.show()"
   ]
  },
  {
   "cell_type": "markdown",
   "metadata": {},
   "source": [
    "### Include an exploratory visualization of the dataset"
   ]
  },
  {
   "cell_type": "markdown",
   "metadata": {},
   "source": [
    "Visualize the German Traffic Signs Dataset using the pickled file(s). This is open ended, suggestions include: plotting traffic sign images, plotting the count of each sign, etc. \n",
    "\n",
    "The [Matplotlib](http://matplotlib.org/) [examples](http://matplotlib.org/examples/index.html) and [gallery](http://matplotlib.org/gallery.html) pages are a great resource for doing visualizations in Python.\n",
    "\n",
    "**NOTE:** It's recommended you start with something simple first. If you wish to do more, come back to it after you've completed the rest of the sections. It can be interesting to look at the distribution of classes in the training, validation and test set. Is the distribution the same? Are there more examples of some classes than others?"
   ]
  },
  {
   "cell_type": "code",
   "execution_count": 5,
   "metadata": {},
   "outputs": [
    {
     "data": {
      "text/plain": [
       "<matplotlib.image.AxesImage at 0x7f540f9586a0>"
      ]
     },
     "execution_count": 5,
     "metadata": {},
     "output_type": "execute_result"
    },
    {
     "data": {
      "image/png": "[encoded data removed]",
      "text/plain": [
       "<matplotlib.figure.Figure at 0x7f54440f0898>"
      ]
     },
     "metadata": {},
     "output_type": "display_data"
    }
   ],
   "source": [
    "plt.imshow(np.asarray(X_train[np.random.randint(0, n_train)]))"
   ]
  },
  {
   "cell_type": "markdown",
   "metadata": {},
   "source": [
    "### Helper function for data visualization"
   ]
  },
  {
   "cell_type": "code",
   "execution_count": 6,
   "metadata": {
    "collapsed": true
   },
   "outputs": [],
   "source": [
    "# Load CSV file with description of traffic signs ordered by class\n",
    "import pandas as pd\n",
    "df = pd.read_csv('signnames.csv')\n",
    "df.keys()\n",
    "\n",
    "# Define function that returns traffic sign description, given the label index\n",
    "def get_traffic_sign_description(index):\n",
    "    if index < 0 or index > n_classes-1:\n",
    "        raise ValueError('index is {}, but we have {} classes indexed from 0 to {}'.format(index, n_classes, n_classes-1))\n",
    "    if not isinstance(index, int):\n",
    "        raise ValueError('index must be an integer')\n",
    "\n",
    "    return df['SignName'][index]"
   ]
  },
  {
   "cell_type": "markdown",
   "metadata": {},
   "source": [
    "### Let's visualize some RGB images with their respective label"
   ]
  },
  {
   "cell_type": "code",
   "execution_count": 7,
   "metadata": {},
   "outputs": [
    {
     "data": {
      "image/png": "[encoded data removed]",
      "text/plain": [
       "<matplotlib.figure.Figure at 0x7f540c103668>"
      ]
     },
     "metadata": {},
     "output_type": "display_data"
    }
   ],
   "source": [
    "# Select 4 random images from the training set\n",
    "indexes = np.random.choice(n_train, 4)\n",
    "\n",
    "images = X_train[indexes]\n",
    "nrows = 2\n",
    "ncols = 2\n",
    "f, axes = plt.subplots(nrows=nrows, ncols=ncols, figsize=(10, 10))\n",
    "image_count = 0\n",
    "for r in range(nrows):\n",
    "    for c in range(ncols):\n",
    "        axes[r, c].imshow(np.asarray(images[image_count]))\n",
    "        axes[r, c].axis('off')\n",
    "        axes[r, c].set_title(get_traffic_sign_description(int(y_train[indexes][image_count])))\n",
    "        image_count += 1"
   ]
  },
  {
   "cell_type": "markdown",
   "metadata": {},
   "source": [
    "### Let's visualize some Gray Scale images with their respective label"
   ]
  },
  {
   "cell_type": "code",
   "execution_count": 8,
   "metadata": {},
   "outputs": [
    {
     "data": {
      "image/png": "[encoded data removed]",
      "text/plain": [
       "<matplotlib.figure.Figure at 0x7f5411daee48>"
      ]
     },
     "metadata": {},
     "output_type": "display_data"
    }
   ],
   "source": [
    "# Use the same images from before\n",
    "\n",
    "images = X_train_gray[indexes]\n",
    "nrows = 2\n",
    "ncols = 2\n",
    "f, axes = plt.subplots(nrows=nrows, ncols=ncols, figsize=(10, 10))\n",
    "image_count = 0\n",
    "for r in range(nrows):\n",
    "    for c in range(ncols):\n",
    "        axes[r, c].imshow(np.asarray(np.squeeze(images[image_count])), cmap='gray')\n",
    "        axes[r, c].axis('off')\n",
    "        axes[r, c].set_title(get_traffic_sign_description(int(y_train[indexes][image_count])))\n",
    "        image_count += 1"
   ]
  },
  {
   "cell_type": "markdown",
   "metadata": {},
   "source": [
    "----\n",
    "\n",
    "## Step 2: Design and Test a Model Architecture\n",
    "\n",
    "Design and implement a deep learning model that learns to recognize traffic signs. Train and test your model on the [German Traffic Sign Dataset](http://benchmark.ini.rub.de/?section=gtsrb&subsection=dataset).\n",
    "\n",
    "The LeNet-5 implementation shown in the [classroom](https://classroom.udacity.com/nanodegrees/nd013/parts/fbf77062-5703-404e-b60c-95b78b2f3f9e/modules/6df7ae49-c61c-4bb2-a23e-6527e69209ec/lessons/601ae704-1035-4287-8b11-e2c2716217ad/concepts/d4aca031-508f-4e0b-b493-e7b706120f81) at the end of the CNN lesson is a solid starting point. You'll have to change the number of classes and possibly the preprocessing, but aside from that it's plug and play! \n",
    "\n",
    "With the LeNet-5 solution from the lecture, you should expect a validation set accuracy of about 0.89. To meet specifications, the validation set accuracy will need to be at least 0.93. It is possible to get an even higher accuracy, but 0.93 is the minimum for a successful project submission. \n",
    "\n",
    "There are various aspects to consider when thinking about this problem:\n",
    "\n",
    "- Neural network architecture (is the network over or underfitting?)\n",
    "- Play around preprocessing techniques (normalization, rgb to grayscale, etc)\n",
    "- Number of examples per label (some have more than others).\n",
    "- Generate fake data.\n",
    "\n",
    "Here is an example of a [published baseline model on this problem](http://yann.lecun.com/exdb/publis/pdf/sermanet-ijcnn-11.pdf). It's not required to be familiar with the approach used in the paper but, it's good practice to try to read papers like these."
   ]
  },
  {
   "cell_type": "markdown",
   "metadata": {},
   "source": [
    "### Pre-process the Data Set (normalization, grayscale, etc.)"
   ]
  },
  {
   "cell_type": "markdown",
   "metadata": {},
   "source": [
    "Minimally, the image data should be normalized so that the data has mean zero and equal variance. For image data, `(pixel - 128)/ 128` is a quick way to approximately normalize the data and can be used in this project. \n",
    "\n",
    "Other pre-processing steps are optional. You can try different techniques to see if it improves performance. \n",
    "\n",
    "Use the code cell (or multiple code cells, if necessary) to implement the first step of your project."
   ]
  },
  {
   "cell_type": "code",
   "execution_count": 9,
   "metadata": {
    "collapsed": true
   },
   "outputs": [],
   "source": [
    "### Preprocess the data here. It is required to normalize the data. Other preprocessing steps could include \n",
    "### converting to grayscale, etc.\n",
    "### Feel free to use as many code cells as needed."
   ]
  },
  {
   "cell_type": "code",
   "execution_count": 10,
   "metadata": {
    "collapsed": true
   },
   "outputs": [],
   "source": [
    "# Normalize each channel of an image from 0 to 255, to 0 to 1\n",
    "def normalize(batch):\n",
    "    return (batch-128) / 128.\n",
    "\n",
    "X_train = normalize(X_train)\n",
    "X_valid = normalize(X_valid)\n",
    "X_test = normalize(X_test)\n",
    "\n",
    "# One hot encoding for labels\n",
    "y_train = pd.get_dummies(y_train).as_matrix()\n",
    "y_valid = pd.get_dummies(y_valid).as_matrix()\n",
    "y_test = pd.get_dummies(y_test).as_matrix()"
   ]
  },
  {
   "cell_type": "markdown",
   "metadata": {},
   "source": [
    "## Model Architecture"
   ]
  },
  {
   "cell_type": "code",
   "execution_count": 11,
   "metadata": {
    "collapsed": true
   },
   "outputs": [],
   "source": [
    "### Define your architecture here.\n",
    "### Feel free to use as many code cells as needed."
   ]
  },
  {
   "cell_type": "markdown",
   "metadata": {},
   "source": [
    "### Hyperparameters"
   ]
  },
  {
   "cell_type": "code",
   "execution_count": 12,
   "metadata": {},
   "outputs": [],
   "source": [
    "learning_rate = 1E-3\n",
    "batch_size = 256\n",
    "epochs = 15\n",
    "train_iterations = int(np.ceil(n_train / batch_size))"
   ]
  },
  {
   "cell_type": "markdown",
   "metadata": {},
   "source": [
    "### A few helper functions for building the graph"
   ]
  },
  {
   "cell_type": "code",
   "execution_count": 13,
   "metadata": {
    "collapsed": true
   },
   "outputs": [],
   "source": [
    "def get_variables(shape, scope):\n",
    "    with tf.name_scope(scope):\n",
    "        xavier = tf.contrib.layers.xavier_initializer()\n",
    "        const = tf.constant_initializer(0.1)\n",
    "        W = tf.get_variable('weight_{}'.format(scope), shape, initializer=xavier)\n",
    "        b = tf.get_variable('bias_{}'.format(scope), shape[-1], initializer=const)\n",
    "        tf.summary.histogram(tf.get_variable_scope().name + '_weight', W)\n",
    "        tf.summary.histogram(tf.get_variable_scope().name + '_bias', b)\n",
    "    return W, b\n",
    "        \n",
    "def conv2d(_input, filter_shape, stride, padding, scope=None):\n",
    "    filter_h, filter_w, filter_depth_out = filter_shape\n",
    "    filter_depth_in = int(_input.get_shape()[-1])\n",
    "    shape = [filter_h, filter_w, filter_depth_in, filter_depth_out]\n",
    "    W, b = get_variables(shape, scope)\n",
    "    conv = tf.nn.conv2d(\n",
    "        _input,\n",
    "        W,\n",
    "        strides=stride,\n",
    "        padding=padding\n",
    "    )\n",
    "    bias = tf.nn.bias_add(conv, b)\n",
    "    return bias\n",
    "\n",
    "def maxpool2d(_input, ksize, stride, padding):\n",
    "    return tf.nn.max_pool(\n",
    "        _input, \n",
    "        ksize=ksize, \n",
    "        strides=stride,\n",
    "        padding=padding\n",
    "    )\n",
    "\n",
    "def linear(_input, output_dim, scope=None):\n",
    "    shape = [int(_input.get_shape()[1]), output_dim]\n",
    "    W, b = get_variables(shape, scope)\n",
    "    return tf.matmul(_input, W) + b\n",
    "\n",
    "def flatten(_input):\n",
    "    return tf.reshape(_input, [-1, int(reduce(lambda x, y: x*y, _input.get_shape()[1:]))])\n",
    "\n",
    "def relu(_input, scope=None):\n",
    "    with tf.name_scope(scope):\n",
    "        return tf.nn.relu(_input)\n",
    "    \n",
    "def AdamOptimizer(loss, initial_learning_rate):\n",
    "    optimizer = tf.train.AdamOptimizer(initial_learning_rate)\n",
    "    grads_and_vars = optimizer.compute_gradients(loss)\n",
    "    \n",
    "    train_op = optimizer.apply_gradients(grads_and_vars)\n",
    "    \n",
    "    return train_op, grads_and_vars"
   ]
  },
  {
   "cell_type": "markdown",
   "metadata": {},
   "source": [
    "### Graph"
   ]
  },
  {
   "cell_type": "code",
   "execution_count": 14,
   "metadata": {},
   "outputs": [],
   "source": [
    "import tensorflow as tf\n",
    "from functools import reduce\n",
    "\n",
    "x = tf.placeholder(tf.float32, [None, 32, 32, 1])\n",
    "y = tf.placeholder(tf.float32, [None, n_classes])\n",
    "keep_prob = tf.placeholder(tf.float32)\n",
    "\n",
    "# Conv1\n",
    "filter_shape = [5, 5, 6] # [height, width, depth]\n",
    "stride = [1, 1, 1, 1]\n",
    "padding = 'VALID'\n",
    "conv1 = conv2d(x, filter_shape, stride, padding, 'conv1')\n",
    "\n",
    "# Pool1\n",
    "ksize = [1, 2, 2, 1]\n",
    "stride = [1, 2, 2, 1]\n",
    "padding\n",
    "pool1 = maxpool2d(conv1, ksize, stride, padding)\n",
    "\n",
    "# Conv2\n",
    "filter_shape = [5, 5, 16] # [height, width, depth]\n",
    "stride = [1, 1, 1, 1]\n",
    "padding = 'VALID'\n",
    "conv2 = conv2d(pool1, filter_shape, stride, padding, 'conv2')\n",
    "\n",
    "# Pool2\n",
    "ksize = [1, 2, 2, 1]\n",
    "stride = [1, 1, 1, 1]\n",
    "padding = 'VALID'\n",
    "pool2 = maxpool2d(conv2, ksize, stride, padding)\n",
    "\n",
    "# Flatten\n",
    "flat = flatten(pool2)\n",
    "\n",
    "# FC1\n",
    "fc1 = relu(linear(flat, 120, 'fc1_linear'), 'fc1_relu')\n",
    "fc1 = tf.nn.dropout(fc1, keep_prob)\n",
    "           \n",
    "# FC2\n",
    "fc2 = relu(linear(fc1, 84, 'fc2_linear'), 'fc2_relu')\n",
    "fc2 = tf.nn.dropout(fc2, keep_prob)\n",
    "           \n",
    "# Output\n",
    "out = linear(flat, n_classes, 'ouput_linear')\n",
    "\n",
    "# Loss\n",
    "loss = tf.reduce_mean(tf.nn.softmax_cross_entropy_with_logits(logits=out, labels=y))\n",
    "\n",
    "# Optimizer\n",
    "train_op, grads = AdamOptimizer(loss, learning_rate)\n",
    "\n",
    "correct_pred = tf.equal(tf.argmax(out, 1), tf.argmax(y, 1))\n",
    "accuracy = tf.reduce_mean(tf.cast(correct_pred, tf.float32))"
   ]
  },
  {
   "cell_type": "markdown",
   "metadata": {},
   "source": [
    "### Train, Validate and Test the Model"
   ]
  },
  {
   "cell_type": "markdown",
   "metadata": {},
   "source": [
    "A validation set can be used to assess how well the model is performing. A low accuracy on the training and validation\n",
    "sets imply underfitting. A high accuracy on the training set but low accuracy on the validation set implies overfitting."
   ]
  },
  {
   "cell_type": "code",
   "execution_count": 15,
   "metadata": {
    "collapsed": true
   },
   "outputs": [],
   "source": [
    "### Train your model here.\n",
    "### Calculate and report the accuracy on the training and validation set.\n",
    "### Once a final model architecture is selected, \n",
    "### the accuracy on the test set should be calculated and reported as well.\n",
    "### Feel free to use as many code cells as needed."
   ]
  },
  {
   "cell_type": "markdown",
   "metadata": {},
   "source": [
    "### Data utilities"
   ]
  },
  {
   "cell_type": "code",
   "execution_count": 16,
   "metadata": {},
   "outputs": [],
   "source": [
    "# Simple data iterator\n",
    "def data_iterator(data, labels, batch_size):\n",
    "    N = data.shape[0]\n",
    "    batch_idx = 0\n",
    "    while True:\n",
    "        for batch_idx in range(0, N, batch_size):\n",
    "            data_batch = data[batch_idx:batch_idx+batch_size]\n",
    "            labels_batch = labels[batch_idx:batch_idx+batch_size]\n",
    "            yield data_batch, labels_batch\n",
    "            \n",
    "def shuffle_unison(a, b, c):\n",
    "    rng_state = np.random.get_state()\n",
    "    np.random.shuffle(a)\n",
    "    np.random.set_state(rng_state)\n",
    "    np.random.shuffle(b)\n",
    "    np.random.set_state(rng_state)\n",
    "    np.random.shuffle(c)\n",
    "    \n",
    "shuffle_unison(X_train, X_train_gray, y_train)\n",
    "shuffle_unison(X_valid, X_valid_gray, y_valid)\n",
    "shuffle_unison(X_test, X_test_gray, y_test)\n",
    "\n",
    "train_iterator_rgb = data_iterator(X_train, y_train, batch_size)\n",
    "train_iterator_gray = data_iterator(X_train_gray, y_train, batch_size)"
   ]
  },
  {
   "cell_type": "markdown",
   "metadata": {},
   "source": [
    "### Launch the Graph and train"
   ]
  },
  {
   "cell_type": "code",
   "execution_count": 17,
   "metadata": {},
   "outputs": [
    {
     "name": "stdout",
     "output_type": "stream",
     "text": [
      "Epoch: 001 - Train Accuracy: 59.78% - Train Loss: 5.65\n",
      "             Valid Accuracy: 75.01% - Valid Loss: 2.02\n",
      "\n",
      "Epoch: 002 - Train Accuracy: 86.70% - Train Loss: 0.66\n",
      "             Valid Accuracy: 82.63% - Valid Loss: 1.35\n",
      "\n",
      "Epoch: 003 - Train Accuracy: 92.21% - Train Loss: 0.35\n",
      "             Valid Accuracy: 85.08% - Valid Loss: 1.24\n",
      "\n",
      "Epoch: 004 - Train Accuracy: 94.78% - Train Loss: 0.23\n",
      "             Valid Accuracy: 86.58% - Valid Loss: 1.09\n",
      "\n",
      "Epoch: 005 - Train Accuracy: 96.41% - Train Loss: 0.16\n",
      "             Valid Accuracy: 88.12% - Valid Loss: 1.01\n",
      "\n",
      "Epoch: 006 - Train Accuracy: 97.26% - Train Loss: 0.12\n",
      "             Valid Accuracy: 88.57% - Valid Loss: 0.97\n",
      "\n",
      "Epoch: 007 - Train Accuracy: 97.91% - Train Loss: 0.09\n",
      "             Valid Accuracy: 88.68% - Valid Loss: 0.98\n",
      "\n",
      "Epoch: 008 - Train Accuracy: 98.35% - Train Loss: 0.07\n",
      "             Valid Accuracy: 88.84% - Valid Loss: 0.97\n",
      "\n",
      "Epoch: 009 - Train Accuracy: 98.68% - Train Loss: 0.06\n",
      "             Valid Accuracy: 89.14% - Valid Loss: 1.00\n",
      "\n",
      "Epoch: 010 - Train Accuracy: 98.84% - Train Loss: 0.05\n",
      "             Valid Accuracy: 89.68% - Valid Loss: 0.97\n",
      "\n",
      "Epoch: 011 - Train Accuracy: 99.06% - Train Loss: 0.04\n",
      "             Valid Accuracy: 89.68% - Valid Loss: 1.08\n",
      "\n",
      "Epoch: 012 - Train Accuracy: 99.20% - Train Loss: 0.04\n",
      "             Valid Accuracy: 89.18% - Valid Loss: 1.11\n",
      "\n",
      "Epoch: 013 - Train Accuracy: 99.36% - Train Loss: 0.03\n",
      "             Valid Accuracy: 89.52% - Valid Loss: 1.08\n",
      "\n",
      "Epoch: 014 - Train Accuracy: 99.47% - Train Loss: 0.03\n",
      "             Valid Accuracy: 90.16% - Valid Loss: 1.02\n",
      "\n",
      "Epoch: 015 - Train Accuracy: 99.30% - Train Loss: 0.03\n",
      "             Valid Accuracy: 89.93% - Valid Loss: 1.09\n",
      "\n"
     ]
    }
   ],
   "source": [
    "init = tf.global_variables_initializer()\n",
    "with tf.Session() as sess:\n",
    "    sess.run(init)\n",
    "    try:\n",
    "        for epoch in range(epochs):\n",
    "            tot_train_loss = 0.\n",
    "            tot_train_accuracy = 0.\n",
    "            # Training\n",
    "            for iteration in range(train_iterations):\n",
    "                train_data, train_labels = train_iterator_gray.__next__()\n",
    "                feed = {\n",
    "                    x: train_data,\n",
    "                    y: train_labels,\n",
    "                    keep_prob: 0.5\n",
    "                }\n",
    "                loss_value, accuracy_value, _ = sess.run([loss, accuracy, train_op], feed)\n",
    "                tot_train_accuracy += accuracy_value\n",
    "                tot_train_loss += loss_value\n",
    "            \n",
    "            # Validation - NB: Do not call train_op\n",
    "            feed = {\n",
    "                    x: X_valid_gray,\n",
    "                    y: y_valid,\n",
    "                    keep_prob: 1.\n",
    "                }\n",
    "            valid_loss, valid_accuracy = sess.run([loss, accuracy], feed)\n",
    "            \n",
    "            # Display results\n",
    "            args_train = (epoch+1, tot_train_accuracy / train_iterations * 100, tot_train_loss / train_iterations)\n",
    "            args_valid = (valid_accuracy * 100, valid_loss)\n",
    "            \n",
    "            print('Epoch: {:03d} - Train Accuracy: {:.2f}% - Train Loss: {:.2f}'.format(*args_train))\n",
    "            print('             Valid Accuracy: {:.2f}% - Valid Loss: {:.2f}\\n'.format(*args_valid))\n",
    "\n",
    "    except KeyboardInterrupt:\n",
    "        print('Stopping Training...')"
   ]
  },
  {
   "cell_type": "markdown",
   "metadata": {},
   "source": [
    "---\n",
    "\n",
    "## Step 3: Test a Model on New Images\n",
    "\n",
    "To give yourself more insight into how your model is working, download at least five pictures of German traffic signs from the web and use your model to predict the traffic sign type.\n",
    "\n",
    "You may find `signnames.csv` useful as it contains mappings from the class id (integer) to the actual sign name."
   ]
  },
  {
   "cell_type": "markdown",
   "metadata": {},
   "source": [
    "### Load and Output the Images"
   ]
  },
  {
   "cell_type": "code",
   "execution_count": null,
   "metadata": {
    "collapsed": true
   },
   "outputs": [],
   "source": [
    "### Load the images and plot them here.\n",
    "### Feel free to use as many code cells as needed."
   ]
  },
  {
   "cell_type": "markdown",
   "metadata": {},
   "source": [
    "### Predict the Sign Type for Each Image"
   ]
  },
  {
   "cell_type": "code",
   "execution_count": 3,
   "metadata": {
    "collapsed": true
   },
   "outputs": [],
   "source": [
    "### Run the predictions here and use the model to output the prediction for each image.\n",
    "### Make sure to pre-process the images with the same pre-processing pipeline used earlier.\n",
    "### Feel free to use as many code cells as needed."
   ]
  },
  {
   "cell_type": "markdown",
   "metadata": {},
   "source": [
    "### Analyze Performance"
   ]
  },
  {
   "cell_type": "code",
   "execution_count": 4,
   "metadata": {
    "collapsed": true
   },
   "outputs": [],
   "source": [
    "### Calculate the accuracy for these 5 new images. \n",
    "### For example, if the model predicted 1 out of 5 signs correctly, it's 20% accurate on these new images."
   ]
  },
  {
   "cell_type": "markdown",
   "metadata": {},
   "source": [
    "### Output Top 5 Softmax Probabilities For Each Image Found on the Web"
   ]
  },
  {
   "cell_type": "markdown",
   "metadata": {},
   "source": [
    "For each of the new images, print out the model's softmax probabilities to show the **certainty** of the model's predictions (limit the output to the top 5 probabilities for each image). [`tf.nn.top_k`](https://www.tensorflow.org/versions/r0.12/api_docs/python/nn.html#top_k) could prove helpful here. \n",
    "\n",
    "The example below demonstrates how tf.nn.top_k can be used to find the top k predictions for each image.\n",
    "\n",
    "`tf.nn.top_k` will return the values and indices (class ids) of the top k predictions. So if k=3, for each sign, it'll return the 3 largest probabilities (out of a possible 43) and the correspoding class ids.\n",
    "\n",
    "Take this numpy array as an example. The values in the array represent predictions. The array contains softmax probabilities for five candidate images with six possible classes. `tf.nn.top_k` is used to choose the three classes with the highest probability:\n",
    "\n",
    "```\n",
    "# (5, 6) array\n",
    "a = np.array([[ 0.24879643,  0.07032244,  0.12641572,  0.34763842,  0.07893497,\n",
    "         0.12789202],\n",
    "       [ 0.28086119,  0.27569815,  0.08594638,  0.0178669 ,  0.18063401,\n",
    "         0.15899337],\n",
    "       [ 0.26076848,  0.23664738,  0.08020603,  0.07001922,  0.1134371 ,\n",
    "         0.23892179],\n",
    "       [ 0.11943333,  0.29198961,  0.02605103,  0.26234032,  0.1351348 ,\n",
    "         0.16505091],\n",
    "       [ 0.09561176,  0.34396535,  0.0643941 ,  0.16240774,  0.24206137,\n",
    "         0.09155967]])\n",
    "```\n",
    "\n",
    "Running it through `sess.run(tf.nn.top_k(tf.constant(a), k=3))` produces:\n",
    "\n",
    "```\n",
    "TopKV2(values=array([[ 0.34763842,  0.24879643,  0.12789202],\n",
    "       [ 0.28086119,  0.27569815,  0.18063401],\n",
    "       [ 0.26076848,  0.23892179,  0.23664738],\n",
    "       [ 0.29198961,  0.26234032,  0.16505091],\n",
    "       [ 0.34396535,  0.24206137,  0.16240774]]), indices=array([[3, 0, 5],\n",
    "       [0, 1, 4],\n",
    "       [0, 5, 1],\n",
    "       [1, 3, 5],\n",
    "       [1, 4, 3]], dtype=int32))\n",
    "```\n",
    "\n",
    "Looking just at the first row we get `[ 0.34763842,  0.24879643,  0.12789202]`, you can confirm these are the 3 largest probabilities in `a`. You'll also notice `[3, 0, 5]` are the corresponding indices."
   ]
  },
  {
   "cell_type": "code",
   "execution_count": 3,
   "metadata": {
    "collapsed": true
   },
   "outputs": [],
   "source": [
    "### Print out the top five softmax probabilities for the predictions on the German traffic sign images found on the web. \n",
    "### Feel free to use as many code cells as needed."
   ]
  },
  {
   "cell_type": "markdown",
   "metadata": {},
   "source": [
    "### Project Writeup\n",
    "\n",
    "Once you have completed the code implementation, document your results in a project writeup using this [template](https://github.com/udacity/CarND-Traffic-Sign-Classifier-Project/blob/master/writeup_template.md) as a guide. The writeup can be in a markdown or pdf file. "
   ]
  },
  {
   "cell_type": "markdown",
   "metadata": {},
   "source": [
    "> **Note**: Once you have completed all of the code implementations and successfully answered each question above, you may finalize your work by exporting the iPython Notebook as an HTML document. You can do this by using the menu above and navigating to  \\n\",\n",
    "    \"**File -> Download as -> HTML (.html)**. Include the finished document along with this notebook as your submission."
   ]
  },
  {
   "cell_type": "markdown",
   "metadata": {},
   "source": [
    "---\n",
    "\n",
    "## Step 4 (Optional): Visualize the Neural Network's State with Test Images\n",
    "\n",
    " This Section is not required to complete but acts as an additional excersise for understaning the output of a neural network's weights. While neural networks can be a great learning device they are often referred to as a black box. We can understand what the weights of a neural network look like better by plotting their feature maps. After successfully training your neural network you can see what it's feature maps look like by plotting the output of the network's weight layers in response to a test stimuli image. From these plotted feature maps, it's possible to see what characteristics of an image the network finds interesting. For a sign, maybe the inner network feature maps react with high activation to the sign's boundary outline or to the contrast in the sign's painted symbol.\n",
    "\n",
    " Provided for you below is the function code that allows you to get the visualization output of any tensorflow weight layer you want. The inputs to the function should be a stimuli image, one used during training or a new one you provided, and then the tensorflow variable name that represents the layer's state during the training process, for instance if you wanted to see what the [LeNet lab's](https://classroom.udacity.com/nanodegrees/nd013/parts/fbf77062-5703-404e-b60c-95b78b2f3f9e/modules/6df7ae49-c61c-4bb2-a23e-6527e69209ec/lessons/601ae704-1035-4287-8b11-e2c2716217ad/concepts/d4aca031-508f-4e0b-b493-e7b706120f81) feature maps looked like for it's second convolutional layer you could enter conv2 as the tf_activation variable.\n",
    "\n",
    "For an example of what feature map outputs look like, check out NVIDIA's results in their paper [End-to-End Deep Learning for Self-Driving Cars](https://devblogs.nvidia.com/parallelforall/deep-learning-self-driving-cars/) in the section Visualization of internal CNN State. NVIDIA was able to show that their network's inner weights had high activations to road boundary lines by comparing feature maps from an image with a clear path to one without. Try experimenting with a similar test to show that your trained network's weights are looking for interesting features, whether it's looking at differences in feature maps from images with or without a sign, or even what feature maps look like in a trained network vs a completely untrained one on the same sign image.\n",
    "\n",
    "<figure>\n",
    " <img src=\"visualize_cnn.png\" width=\"380\" alt=\"Combined Image\" />\n",
    " <figcaption>\n",
    " <p></p> \n",
    " <p style=\"text-align: center;\"> Your output should look something like this (above)</p> \n",
    " </figcaption>\n",
    "</figure>\n",
    " <p></p> \n"
   ]
  },
  {
   "cell_type": "code",
   "execution_count": null,
   "metadata": {
    "collapsed": true
   },
   "outputs": [],
   "source": [
    "### Visualize your network's feature maps here.\n",
    "### Feel free to use as many code cells as needed.\n",
    "\n",
    "# image_input: the test image being fed into the network to produce the feature maps\n",
    "# tf_activation: should be a tf variable name used during your training procedure that represents the calculated state of a specific weight layer\n",
    "# activation_min/max: can be used to view the activation contrast in more detail, by default matplot sets min and max to the actual min and max values of the output\n",
    "# plt_num: used to plot out multiple different weight feature map sets on the same block, just extend the plt number for each new feature map entry\n",
    "\n",
    "def outputFeatureMap(image_input, tf_activation, activation_min=-1, activation_max=-1 ,plt_num=1):\n",
    "    # Here make sure to preprocess your image_input in a way your network expects\n",
    "    # with size, normalization, ect if needed\n",
    "    # image_input =\n",
    "    # Note: x should be the same name as your network's tensorflow data placeholder variable\n",
    "    # If you get an error tf_activation is not defined it may be having trouble accessing the variable from inside a function\n",
    "    activation = tf_activation.eval(session=sess,feed_dict={x : image_input})\n",
    "    featuremaps = activation.shape[3]\n",
    "    plt.figure(plt_num, figsize=(15,15))\n",
    "    for featuremap in range(featuremaps):\n",
    "        plt.subplot(6,8, featuremap+1) # sets the number of feature maps to show on each row and column\n",
    "        plt.title('FeatureMap ' + str(featuremap)) # displays the feature map number\n",
    "        if activation_min != -1 & activation_max != -1:\n",
    "            plt.imshow(activation[0,:,:, featuremap], interpolation=\"nearest\", vmin =activation_min, vmax=activation_max, cmap=\"gray\")\n",
    "        elif activation_max != -1:\n",
    "            plt.imshow(activation[0,:,:, featuremap], interpolation=\"nearest\", vmax=activation_max, cmap=\"gray\")\n",
    "        elif activation_min !=-1:\n",
    "            plt.imshow(activation[0,:,:, featuremap], interpolation=\"nearest\", vmin=activation_min, cmap=\"gray\")\n",
    "        else:\n",
    "            plt.imshow(activation[0,:,:, featuremap], interpolation=\"nearest\", cmap=\"gray\")"
   ]
  }
 ],
 "metadata": {
  "anaconda-cloud": {},
  "kernelspec": {
   "display_name": "Python 3",
   "language": "python",
   "name": "python3"
  },
  "language_info": {
   "codemirror_mode": {
    "name": "ipython",
    "version": 3
   },
   "file_extension": ".py",
   "mimetype": "text/x-python",
   "name": "python",
   "nbconvert_exporter": "python",
   "pygments_lexer": "ipython3",
   "version": "3.5.2"
  },
  "widgets": {
   "state": {},
   "version": "1.1.2"
  }
 },
 "nbformat": 4,
 "nbformat_minor": 1
}
